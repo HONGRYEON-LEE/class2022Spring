{
  "nbformat": 4,
  "nbformat_minor": 0,
  "metadata": {
    "colab": {
      "name": "2022.03.16.ipynb",
      "provenance": [],
      "collapsed_sections": [],
      "authorship_tag": "ABX9TyMb39Mz3iSdM7q7iwb1e69b",
      "include_colab_link": true
    },
    "kernelspec": {
      "name": "python3",
      "display_name": "Python 3"
    },
    "language_info": {
      "name": "python"
    }
  },
  "cells": [
    {
      "cell_type": "markdown",
      "metadata": {
        "id": "view-in-github",
        "colab_type": "text"
      },
      "source": [
        "<a href=\"https://colab.research.google.com/github/HONGRYEON-LEE/class2022Spring/blob/main/2022_03_16.ipynb\" target=\"_parent\"><img src=\"https://colab.research.google.com/assets/colab-badge.svg\" alt=\"Open In Colab\"/></a>"
      ]
    },
    {
      "cell_type": "markdown",
      "source": [
        "Programming language: 변수(vatiable), 문법(syntax)-조건 if/반복 for, 함수(function), 패키지(package)"
      ],
      "metadata": {
        "id": "HzhwIqDyNvJC"
      }
    },
    {
      "cell_type": "markdown",
      "source": [
        "변수의 유형: 숫자(number- int/float),글자(string),list,단어(dict)\n",
        "* 꼭 import먼저 해서 실행하고 print해야 한다.\n",
        "* 마지막 행인 경우 print 꼭 안 붙여도 된다."
      ],
      "metadata": {
        "id": "El-JyuHCQvc6"
      }
    },
    {
      "cell_type": "code",
      "source": [
        "a = 1 \n",
        "print (type (a))\n",
        "print (a)"
      ],
      "metadata": {
        "colab": {
          "base_uri": "https://localhost:8080/"
        },
        "id": "L1mqu_Bdw1L9",
        "outputId": "37052d84-1eb2-40ce-d865-d33d7aff90f1"
      },
      "execution_count": null,
      "outputs": [
        {
          "output_type": "stream",
          "name": "stdout",
          "text": [
            "<class 'int'>\n",
            "1\n"
          ]
        }
      ]
    },
    {
      "cell_type": "code",
      "source": [
        "a = 1.1\n",
        "print (type (a))\n",
        "print (a)"
      ],
      "metadata": {
        "colab": {
          "base_uri": "https://localhost:8080/"
        },
        "id": "ffL4_XoQRIOZ",
        "outputId": "a98705dc-67a0-4737-eb0b-4b04a601b1ac"
      },
      "execution_count": null,
      "outputs": [
        {
          "output_type": "stream",
          "name": "stdout",
          "text": [
            "<class 'float'>\n",
            "1.1\n"
          ]
        }
      ]
    },
    {
      "cell_type": "markdown",
      "source": [
        "1.  string일 경우 -''/\"\"붙여야 한다. \n",
        "2.  순서는 0,1,2,3...\n",
        "3.  string에서 선택할 때 print (a [순서]) 사용\n",
        "4.  2개 이상 실행할 때 ; 사용\n",
        "5.  전부 선택 [:]\n",
        "6.  처음부터 5번째 선택 [:5] / [0: 5]\n",
        "7.  2번째부터 끝에서부터 1번째 a[2:4] = a [2:-1] (list길이 총 5개일 경우)\n",
        "8.  총 길이 표현 방법 len ()\n",
        "9.  하나 이상 같이 선택 print ( a [0], a [1]...)\n",
        "10. 반복 a[1]+a[2]+a[3] * x\n",
        "11. 대문자 바꾸기 a.upper\n",
        "12. 순서 찾기 result = a. find ('')\n",
        "13. 합치기 a = a.strip()\n",
        "14. 나누기 tokens = a.split(' ') - 뛰어쓰기 필요\n",
        "15. ''붙이기 a = ' '.join(tokens)\n",
        "16. 단어 대체 a = a.replace ('this', 'that')\n",
        "17. \\n 줄 바꾸기"
      ],
      "metadata": {
        "id": "7VkUuDESSb21"
      }
    },
    {
      "cell_type": "code",
      "source": [
        "a = 'hello'\n",
        "print (type (a)) ; print (a [3]) ; print (a [4]) ; print (a [0]) ; print (a [0:-1]); print (a [0:4])"
      ],
      "metadata": {
        "colab": {
          "base_uri": "https://localhost:8080/"
        },
        "id": "PyHOvHEASaeD",
        "outputId": "1660a643-c27f-4d93-bb8f-f81dee6f30c8"
      },
      "execution_count": null,
      "outputs": [
        {
          "output_type": "stream",
          "name": "stdout",
          "text": [
            "<class 'str'>\n",
            "l\n",
            "o\n",
            "h\n",
            "hell\n",
            "hell\n"
          ]
        }
      ]
    },
    {
      "cell_type": "code",
      "source": [
        "a = '45698'\n",
        "print (type (a)) ; print (a [0]) ; print (a[3]); print (a [:]) ; print (a [1:5])"
      ],
      "metadata": {
        "colab": {
          "base_uri": "https://localhost:8080/"
        },
        "id": "KbiismjEUBAv",
        "outputId": "30420594-2352-4ab2-a1e0-d43524b8842a"
      },
      "execution_count": null,
      "outputs": [
        {
          "output_type": "stream",
          "name": "stdout",
          "text": [
            "<class 'str'>\n",
            "4\n",
            "9\n",
            "45698\n",
            "5698\n"
          ]
        }
      ]
    },
    {
      "cell_type": "code",
      "source": [
        " s = 'this is a big house.\\n'\n",
        "print (s)\n",
        "result = s.find('big')\n",
        "print (result)\n",
        "s = s.strip()\n",
        "print (s)\n",
        "tokens = s.split (' ')\n",
        "print (tokens)\n",
        "a = s.strip()\n",
        "print (a)\n",
        "s = a. replace ('this','that')\n",
        "print (s)\n",
        "tokens = s.split (' ')\n",
        "print (tokens)\n",
        "s = ' '.join (tokens)\n",
        "print (s)"
      ],
      "metadata": {
        "colab": {
          "base_uri": "https://localhost:8080/"
        },
        "id": "Pigj8yGPfGLX",
        "outputId": "5c5f5b98-baaf-4f45-c051-5e6a8cc2fcaf"
      },
      "execution_count": null,
      "outputs": [
        {
          "output_type": "stream",
          "name": "stdout",
          "text": [
            "this is a big house.\n",
            "\n",
            "10\n",
            "this is a big house.\n",
            "['this', 'is', 'a', 'big', 'house.']\n",
            "this is a big house.\n",
            "that is a big house.\n",
            "['that', 'is', 'a', 'big', 'house.']\n",
            "that is a big house.\n"
          ]
        }
      ]
    },
    {
      "cell_type": "markdown",
      "source": [
        "1. list 형식 [x, x, x]\n",
        "2. list 안에 list일 경우 [x,x,[x,x]]"
      ],
      "metadata": {
        "id": "rdYAI2gpT_sS"
      }
    },
    {
      "cell_type": "code",
      "source": [
        "a = [1,2,3,4,5]\n",
        "print (type (a));print (a [0]); print (a [:]); print (a [0:5])"
      ],
      "metadata": {
        "colab": {
          "base_uri": "https://localhost:8080/"
        },
        "id": "uNcBx1A6RdFH",
        "outputId": "b477d2b7-de88-456f-99bb-bd1b6c39211f"
      },
      "execution_count": null,
      "outputs": [
        {
          "output_type": "stream",
          "name": "stdout",
          "text": [
            "<class 'list'>\n",
            "1\n",
            "[1, 2, 3, 4, 5]\n",
            "[1, 2, 3, 4, 5]\n"
          ]
        }
      ]
    },
    {
      "cell_type": "code",
      "source": [
        "a = [1,'3',[2,'4']]\n",
        "print (type (a)) ; print (a [2])"
      ],
      "metadata": {
        "colab": {
          "base_uri": "https://localhost:8080/"
        },
        "id": "IotJeo1NYw84",
        "outputId": "d992b5c3-78da-4896-8639-2f9a6eb1e772"
      },
      "execution_count": null,
      "outputs": [
        {
          "output_type": "stream",
          "name": "stdout",
          "text": [
            "<class 'list'>\n",
            "[2, '4']\n"
          ]
        }
      ]
    },
    {
      "cell_type": "markdown",
      "source": [
        "1. dict 형식: a = { 'a':'apple', 'b':'big'}\n",
        "2. 순서는 따로 없음, 표현: 'a', 'b'"
      ],
      "metadata": {
        "id": "KPMVaB6sZCuq"
      }
    },
    {
      "cell_type": "code",
      "source": [
        "a = {'s':'super','m':'man'}\n",
        "print (type (a)) ; print (a ['s']) ; print (a ['m'])"
      ],
      "metadata": {
        "colab": {
          "base_uri": "https://localhost:8080/"
        },
        "id": "7Ppv5V2yZRA8",
        "outputId": "c4be95e6-25ed-435f-d77f-6fc7fb834f0b"
      },
      "execution_count": null,
      "outputs": [
        {
          "output_type": "stream",
          "name": "stdout",
          "text": [
            "<class 'dict'>\n",
            "super\n",
            "man\n"
          ]
        }
      ]
    },
    {
      "cell_type": "markdown",
      "source": [
        "Syntax 문법 - 조건 if/반복 for\n",
        "1. for i in a: - print (i) / for i in range (len(a)): - print (a[i]) -처음부터 하나하나씩 받아서 돌린다.\n",
        "2. range (1,3) - [1,2]\n",
        "3. print i*j -i,j의 결합\n",
        "4. if i >=3 -i그 숫자가 3보다 크면\n",
        "5. syntax 뒤에 꼭 :\n",
        "6. b = [i for i in a if len(i)>=4] -길이 4개보다 긴 거 print\n"
      ],
      "metadata": {
        "id": "F7V1owEUmCrq"
      }
    },
    {
      "cell_type": "code",
      "source": [
        "a = [1,2,3,4]\n",
        "for i in a:\n",
        "  print (i)"
      ],
      "metadata": {
        "colab": {
          "base_uri": "https://localhost:8080/"
        },
        "id": "1LzOM9dpms16",
        "outputId": "2dd5cee4-e353-4439-b64f-bf73c404c54b"
      },
      "execution_count": null,
      "outputs": [
        {
          "output_type": "stream",
          "name": "stdout",
          "text": [
            "1\n",
            "2\n",
            "3\n",
            "4\n"
          ]
        }
      ]
    },
    {
      "cell_type": "code",
      "source": [
        "a = ['red','blue','yellow']\n",
        "for i in range (len(a)):\n",
        "  print (a [i])"
      ],
      "metadata": {
        "colab": {
          "base_uri": "https://localhost:8080/"
        },
        "id": "m--IinP4q76R",
        "outputId": "cf9487e6-fd21-42f6-ffc0-e169c22be976"
      },
      "execution_count": null,
      "outputs": [
        {
          "output_type": "stream",
          "name": "stdout",
          "text": [
            "red\n",
            "blue\n",
            "yellow\n"
          ]
        }
      ]
    },
    {
      "cell_type": "code",
      "source": [
        "a = 0\n",
        "if a == 0:\n",
        "  print (a)"
      ],
      "metadata": {
        "colab": {
          "base_uri": "https://localhost:8080/"
        },
        "id": "37ctmHfztk6y",
        "outputId": "20412025-b4ca-4a25-c05c-433b4557e7e3"
      },
      "execution_count": null,
      "outputs": [
        {
          "output_type": "stream",
          "name": "stdout",
          "text": [
            "0\n"
          ]
        }
      ]
    },
    {
      "cell_type": "code",
      "source": [
        "for i in range (1,3):\n",
        "  for j in range (3,5):\n",
        "    print (i*j)"
      ],
      "metadata": {
        "colab": {
          "base_uri": "https://localhost:8080/"
        },
        "id": "S6NxlncqvSE8",
        "outputId": "9227657f-a4a2-4373-8c24-38a26d021eeb"
      },
      "execution_count": null,
      "outputs": [
        {
          "output_type": "stream",
          "name": "stdout",
          "text": [
            "3\n",
            "4\n",
            "6\n",
            "8\n"
          ]
        }
      ]
    },
    {
      "cell_type": "markdown",
      "source": [
        "[1,2] * [3,4]"
      ],
      "metadata": {
        "id": "ivxUqYxMxAam"
      }
    },
    {
      "cell_type": "code",
      "source": [
        "for i in range (1,3):\n",
        "  for j in range (3,5):\n",
        "    if j >= 4:\n",
        "      print (i*j)"
      ],
      "metadata": {
        "colab": {
          "base_uri": "https://localhost:8080/"
        },
        "id": "EgMd-PQoxG5u",
        "outputId": "2a88c28b-e1ea-4b2c-9bf9-a28a1e268a96"
      },
      "execution_count": null,
      "outputs": [
        {
          "output_type": "stream",
          "name": "stdout",
          "text": [
            "4\n",
            "8\n"
          ]
        }
      ]
    },
    {
      "cell_type": "markdown",
      "source": [
        "[1,2]*[4]"
      ],
      "metadata": {
        "id": "5lEnD73hxj1s"
      }
    },
    {
      "cell_type": "code",
      "source": [
        "a = [1,2,3,4,5]\n",
        "b =[ i for i in a if i>=2]\n",
        "print (b)"
      ],
      "metadata": {
        "colab": {
          "base_uri": "https://localhost:8080/"
        },
        "id": "8HqxOlkvxpu0",
        "outputId": "a8cc6dbe-51fe-4067-cc28-0aa6ac7a7d0a"
      },
      "execution_count": null,
      "outputs": [
        {
          "output_type": "stream",
          "name": "stdout",
          "text": [
            "[2, 3, 4, 5]\n"
          ]
        }
      ]
    },
    {
      "cell_type": "code",
      "source": [
        "a = ['red','purple','blue']\n",
        "b = [i for i in a if len(i)>=4]\n",
        "print (b)"
      ],
      "metadata": {
        "colab": {
          "base_uri": "https://localhost:8080/"
        },
        "id": "UvzWilKMyMSF",
        "outputId": "8b953e5d-569d-43ca-fe67-2914dc390533"
      },
      "execution_count": null,
      "outputs": [
        {
          "output_type": "stream",
          "name": "stdout",
          "text": [
            "['purple', 'blue']\n"
          ]
        }
      ]
    },
    {
      "cell_type": "code",
      "source": [
        "a = ['red', 'blue','purple','orange']\n",
        "b = [1,2,3,4]\n",
        "c = {a[i]:b[i] for i in range (4) }\n",
        "print (c)"
      ],
      "metadata": {
        "colab": {
          "base_uri": "https://localhost:8080/"
        },
        "id": "DWv72whi0lML",
        "outputId": "f3b10098-804d-4fde-d80b-3f34ace1f99b"
      },
      "execution_count": null,
      "outputs": [
        {
          "output_type": "stream",
          "name": "stdout",
          "text": [
            "{'red': 1, 'blue': 2, 'purple': 3, 'orange': 4}\n"
          ]
        }
      ]
    },
    {
      "cell_type": "markdown",
      "source": [
        "**a = ['red', 'green', 'blue', 'purple']\n",
        "b = [1, 2, 3, 4]\n",
        "c = {a[i]:b[i] for i in range(4)}\n",
        "c\n",
        "{'blue': 3, 'green': 2, 'purple': 4, 'red': 1} - 교수님이 제공하신 순서는 어떻게 된건가?**"
      ],
      "metadata": {
        "id": "wcP2xfKS1idv"
      }
    },
    {
      "cell_type": "markdown",
      "source": [
        "function- def(define)\n",
        "\n",
        "def add(a,b):\n",
        "  return a+b\n",
        "\n",
        "def subtract(a,b):\n",
        "  return a-b\n",
        "\n",
        "def multiply(a,b):\n",
        "  return a*b\n",
        "\n",
        "def divide(a,b):\n",
        "  return a/b"
      ],
      "metadata": {
        "id": "1OFCmFf4172x"
      }
    },
    {
      "cell_type": "code",
      "source": [
        "def add (a,b):\n",
        "  return a+b\n",
        "\n",
        "def subtract (a,b):\n",
        "  return a-b\n",
        "\n",
        "def multiply (a,b):\n",
        "  return a*b\n",
        "\n",
        "def divide(a,b):\n",
        "  return a/b"
      ],
      "metadata": {
        "id": "YAFhdxlS21pg"
      },
      "execution_count": null,
      "outputs": []
    },
    {
      "cell_type": "code",
      "source": [
        "c = add(1,2); print (c)\n",
        "c = subtract (2,3); print (c)\n",
        "c = multiply (1,2); print (c)\n",
        "c = divide (1,2); print (c)"
      ],
      "metadata": {
        "colab": {
          "base_uri": "https://localhost:8080/"
        },
        "id": "w2kW7QdC1qNV",
        "outputId": "fdf7fbfa-716c-4d01-a2a6-34848875721d"
      },
      "execution_count": null,
      "outputs": [
        {
          "output_type": "stream",
          "name": "stdout",
          "text": [
            "3\n",
            "-1\n",
            "2\n",
            "0.5\n"
          ]
        }
      ]
    },
    {
      "cell_type": "markdown",
      "source": [
        "package - numpy"
      ],
      "metadata": {
        "id": "FIB_G5cZyKtZ"
      }
    }
  ]
}