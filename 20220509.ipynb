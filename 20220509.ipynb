{
  "nbformat": 4,
  "nbformat_minor": 0,
  "metadata": {
    "colab": {
      "name": "20220509.ipynb",
      "provenance": [],
      "collapsed_sections": [],
      "authorship_tag": "ABX9TyO3dox4oEINqbEZ8Jm2JlN1",
      "include_colab_link": true
    },
    "kernelspec": {
      "name": "python3",
      "display_name": "Python 3"
    },
    "language_info": {
      "name": "python"
    }
  },
  "cells": [
    {
      "cell_type": "markdown",
      "metadata": {
        "id": "view-in-github",
        "colab_type": "text"
      },
      "source": [
        "<a href=\"https://colab.research.google.com/github/HONGRYEON-LEE/class2022Spring/blob/main/20220509.ipynb\" target=\"_parent\"><img src=\"https://colab.research.google.com/assets/colab-badge.svg\" alt=\"Open In Colab\"/></a>"
      ]
    },
    {
      "cell_type": "code",
      "execution_count": null,
      "metadata": {
        "id": "1BFlp_dW5-c8"
      },
      "outputs": [],
      "source": [
        "import os\n",
        "url = \"https://raw.githubusercontent.com/hsnam95/my/main/friends_season01_script.txt\"\n",
        "os.system(\"curl \" + url + \" > friends_season01_script.txt\")\n",
        "\n"
      ]
    },
    {
      "cell_type": "code",
      "source": [
        "file = open(\"friends_season01_script.txt\")\n",
        "text = file.read()\n",
        "file.close()\n",
        "text"
      ],
      "metadata": {
        "id": "Xk1QMSrdeXJc"
      },
      "execution_count": null,
      "outputs": []
    },
    {
      "cell_type": "code",
      "source": [
        "import re\n",
        "re.findall('Rachel', text)\n",
        "re.sub('Rachel', '2019130925', text)"
      ],
      "metadata": {
        "id": "8QPElzoiT9ug"
      },
      "execution_count": null,
      "outputs": []
    },
    {
      "cell_type": "code",
      "source": [
        "text = re.sub('Rachel', '2019130925', text)\n",
        "text\n"
      ],
      "metadata": {
        "id": "IjbSAhxxfvGA"
      },
      "execution_count": null,
      "outputs": []
    },
    {
      "cell_type": "code",
      "source": [
        "file = open(\"20220509.txt\", \"w\")\n",
        "file.write(text)\n",
        "file.close()"
      ],
      "metadata": {
        "id": "SpaRczuoXK2O"
      },
      "execution_count": null,
      "outputs": []
    }
  ]
}